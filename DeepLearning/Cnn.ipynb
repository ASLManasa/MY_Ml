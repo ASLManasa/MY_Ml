{
  "nbformat": 4,
  "nbformat_minor": 0,
  "metadata": {
    "colab": {
      "name": "Cnn.ipynb",
      "provenance": []
    },
    "kernelspec": {
      "name": "python3",
      "display_name": "Python 3"
    },
    "language_info": {
      "name": "python"
    }
  },
  "cells": [
    {
      "cell_type": "markdown",
      "metadata": {
        "id": "NI1ZwTtCh6wP"
      },
      "source": [
        "The MNIST dataset is an acronym that stands for the Modified National Institute of Standards and Technology dataset. It is a dataset of 60,000 small square 28×28 pixel grayscale images."
      ]
    },
    {
      "cell_type": "code",
      "metadata": {
        "id": "x0mxKRkagq1k"
      },
      "source": [
        "# Import Libraries\n",
        "import os\n",
        "os.environ[\"TF_CPP_MIN_LOG_LEVEL\"] = \"2\"\n",
        "import numpy as np\n",
        "import tensorflow as tf\n",
        "import tensorflow.keras.layers  as KL\n",
        "import tensorflow.keras.models  as KM"
      ],
      "execution_count": 2,
      "outputs": []
    },
    {
      "cell_type": "code",
      "metadata": {
        "id": "net7rlYchOHO"
      },
      "source": [
        "mnist = tf.keras.datasets.fashion_mnist"
      ],
      "execution_count": 12,
      "outputs": []
    },
    {
      "cell_type": "code",
      "metadata": {
        "id": "vJCLDxkCiLQi"
      },
      "source": [
        "mnist = tf.keras.datasets.mnist\n",
        "(x_train, y_train), (x_test, y_test) = mnist.load_data()\n",
        "x_train, x_test = x_train/255.0, x_test/255.0\n",
        "x_train, x_test = np.expand_dims(x_train, axis=-1), np.expand_dims(x_test, axis=-1)"
      ],
      "execution_count": 19,
      "outputs": []
    },
    {
      "cell_type": "code",
      "metadata": {
        "colab": {
          "base_uri": "https://localhost:8080/"
        },
        "id": "AH6qWZKWincU",
        "outputId": "9e4a835f-f1d0-4bb9-d56b-1c286b7d0ae6"
      },
      "source": [
        "print(x_train.shape)\n",
        "# print(y_train.shape)"
      ],
      "execution_count": 20,
      "outputs": [
        {
          "output_type": "stream",
          "text": [
            "(60000, 28, 28, 1)\n"
          ],
          "name": "stdout"
        }
      ]
    },
    {
      "cell_type": "code",
      "metadata": {
        "id": "BQszKsRRjHXy"
      },
      "source": [
        "inputs = KL.Input(shape=(28,28,1))"
      ],
      "execution_count": 21,
      "outputs": []
    },
    {
      "cell_type": "code",
      "metadata": {
        "id": "Ue-jNpO4i1s3"
      },
      "source": [
        "c = KL.Conv2D(32, (3, 3), padding=\"valid\", activation=tf.nn.relu)(inputs)\n",
        "m = KL.MaxPool2D((2, 2), (2, 2))(c)\n",
        "d = KL.Dropout(0.5)(m)\n",
        "c = KL.Conv2D(64, (3, 3), padding=\"valid\", activation=tf.nn.relu)(d)\n",
        "m = KL.MaxPool2D((2, 2), (2, 2))(c)\n",
        "d = KL.Dropout(0.5)(m)\n",
        "c = KL.Conv2D(128, (3, 3), padding=\"valid\", activation=tf.nn.relu)(d)\n",
        "f = KL.Flatten()(c)\n",
        "outputs = KL.Dense(10, activation=tf.nn.softmax)(f)"
      ],
      "execution_count": 23,
      "outputs": []
    },
    {
      "cell_type": "code",
      "metadata": {
        "colab": {
          "base_uri": "https://localhost:8080/"
        },
        "id": "5a9bHC6pjqPk",
        "outputId": "3e8103f7-aeb2-46ba-c398-6acf628f1b5e"
      },
      "source": [
        "model = KM.Model(inputs, outputs)\n",
        "model.summary()"
      ],
      "execution_count": 24,
      "outputs": [
        {
          "output_type": "stream",
          "text": [
            "Model: \"model\"\n",
            "_________________________________________________________________\n",
            "Layer (type)                 Output Shape              Param #   \n",
            "=================================================================\n",
            "input_1 (InputLayer)         [(None, 28, 28, 1)]       0         \n",
            "_________________________________________________________________\n",
            "conv2d_3 (Conv2D)            (None, 26, 26, 32)        320       \n",
            "_________________________________________________________________\n",
            "max_pooling2d_2 (MaxPooling2 (None, 13, 13, 32)        0         \n",
            "_________________________________________________________________\n",
            "dropout_2 (Dropout)          (None, 13, 13, 32)        0         \n",
            "_________________________________________________________________\n",
            "conv2d_4 (Conv2D)            (None, 11, 11, 64)        18496     \n",
            "_________________________________________________________________\n",
            "max_pooling2d_3 (MaxPooling2 (None, 5, 5, 64)          0         \n",
            "_________________________________________________________________\n",
            "dropout_3 (Dropout)          (None, 5, 5, 64)          0         \n",
            "_________________________________________________________________\n",
            "conv2d_5 (Conv2D)            (None, 3, 3, 128)         73856     \n",
            "_________________________________________________________________\n",
            "flatten_1 (Flatten)          (None, 1152)              0         \n",
            "_________________________________________________________________\n",
            "dense (Dense)                (None, 10)                11530     \n",
            "=================================================================\n",
            "Total params: 104,202\n",
            "Trainable params: 104,202\n",
            "Non-trainable params: 0\n",
            "_________________________________________________________________\n"
          ],
          "name": "stdout"
        }
      ]
    },
    {
      "cell_type": "code",
      "metadata": {
        "id": "TX1oJMOlj1WN"
      },
      "source": [
        "model.compile(optimizer=\"adam\",\n",
        "                loss=\"sparse_categorical_crossentropy\",\n",
        "                metrics=[\"accuracy\"])\n"
      ],
      "execution_count": 25,
      "outputs": []
    },
    {
      "cell_type": "code",
      "metadata": {
        "colab": {
          "base_uri": "https://localhost:8080/"
        },
        "id": "nzkdrGWtj25A",
        "outputId": "eb16b9b7-9587-47da-b7ae-ded1984fcf21"
      },
      "source": [
        "model.fit(x_train, y_train, epochs=5)\n",
        "test_loss, test_acc = model.evaluate(x_test, y_test)\n",
        "print(\"Test Loss: {0} - Test Acc: {1}\".format(test_loss, test_acc))"
      ],
      "execution_count": 26,
      "outputs": [
        {
          "output_type": "stream",
          "text": [
            "Epoch 1/5\n",
            "1875/1875 [==============================] - 68s 36ms/step - loss: 0.2335 - accuracy: 0.9272\n",
            "Epoch 2/5\n",
            "1875/1875 [==============================] - 67s 36ms/step - loss: 0.0822 - accuracy: 0.9744\n",
            "Epoch 3/5\n",
            "1875/1875 [==============================] - 66s 35ms/step - loss: 0.0660 - accuracy: 0.9798\n",
            "Epoch 4/5\n",
            "1875/1875 [==============================] - 67s 36ms/step - loss: 0.0566 - accuracy: 0.9820\n",
            "Epoch 5/5\n",
            "1875/1875 [==============================] - 67s 36ms/step - loss: 0.0506 - accuracy: 0.9836\n",
            "313/313 [==============================] - 3s 11ms/step - loss: 0.0235 - accuracy: 0.9936\n",
            "Test Loss: 0.023476745933294296 - Test Acc: 0.9936000108718872\n"
          ],
          "name": "stdout"
        }
      ]
    }
  ]
}